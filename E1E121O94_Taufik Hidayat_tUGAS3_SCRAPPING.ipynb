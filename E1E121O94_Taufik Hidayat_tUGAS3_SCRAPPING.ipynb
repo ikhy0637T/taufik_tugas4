{
 "cells": [
  {
   "cell_type": "code",
   "execution_count": 1,
   "id": "1130ce1f",
   "metadata": {},
   "outputs": [],
   "source": [
    "import requests\n",
    "import pandas as pd"
   ]
  },
  {
   "cell_type": "code",
   "execution_count": 2,
   "id": "8fecb29d",
   "metadata": {},
   "outputs": [],
   "source": [
    "response = requests.get(\n",
    "    url=\"https://en.wikipedia.org/wiki/List_of_countries_by_GDP_(nominal)\",\n",
    ")"
   ]
  },
  {
   "cell_type": "code",
   "execution_count": 3,
   "id": "d6410745",
   "metadata": {},
   "outputs": [
    {
     "name": "stdout",
     "output_type": "stream",
     "text": [
      "200\n"
     ]
    }
   ],
   "source": [
    "print(response.status_code)"
   ]
  },
  {
   "cell_type": "code",
   "execution_count": 4,
   "id": "183b0508",
   "metadata": {},
   "outputs": [
    {
     "name": "stdout",
     "output_type": "stream",
     "text": [
      "List of countries by GDP (nominal)\n"
     ]
    }
   ],
   "source": [
    "from bs4 import BeautifulSoup\n",
    "\n",
    "soup = BeautifulSoup(response.content, 'html.parser')\n",
    "\n",
    "title = soup.find(id=\"firstHeading\")\n",
    "print(title.string)"
   ]
  },
  {
   "cell_type": "code",
   "execution_count": 5,
   "id": "0067ffd8",
   "metadata": {},
   "outputs": [],
   "source": [
    "soup = BeautifulSoup(response.text, 'html.parser')\n",
    "indiatable=soup.find('table',{'class':\"wikitable\"})"
   ]
  },
  {
   "cell_type": "code",
   "execution_count": 6,
   "id": "e7b6b86e",
   "metadata": {},
   "outputs": [],
   "source": [
    "df=pd.read_html(str(indiatable))"
   ]
  },
  {
   "cell_type": "code",
   "execution_count": 7,
   "id": "b670efe1",
   "metadata": {},
   "outputs": [],
   "source": [
    "df=pd.DataFrame(df[0])"
   ]
  },
  {
   "cell_type": "code",
   "execution_count": 8,
   "id": "0b920921",
   "metadata": {},
   "outputs": [
    {
     "name": "stdout",
     "output_type": "stream",
     "text": [
      "  Country/Territory UN region IMF[1][13]            World Bank[14]             \\\n",
      "  Country/Territory UN region   Forecast       Year       Estimate       Year   \n",
      "0             World         —  105568776       2023      100562011       2022   \n",
      "1     United States  Americas   26854599       2023       25462700       2022   \n",
      "2             China      Asia   19373586  [n 1]2023       17963171  [n 3]2022   \n",
      "3             Japan      Asia    4409738       2023        4231141       2022   \n",
      "4           Germany    Europe    4308854       2023        4072192       2022   \n",
      "\n",
      "  United Nations[15]             \n",
      "            Estimate       Year  \n",
      "0           96698005       2021  \n",
      "1           23315081       2021  \n",
      "2           17734131  [n 1]2021  \n",
      "3            4940878       2021  \n",
      "4            4259935       2021  \n"
     ]
    }
   ],
   "source": [
    "print(df.head())"
   ]
  },
  {
   "cell_type": "code",
   "execution_count": 9,
   "id": "2c4368ba",
   "metadata": {},
   "outputs": [
    {
     "data": {
      "text/html": [
       "<div>\n",
       "<style scoped>\n",
       "    .dataframe tbody tr th:only-of-type {\n",
       "        vertical-align: middle;\n",
       "    }\n",
       "\n",
       "    .dataframe tbody tr th {\n",
       "        vertical-align: top;\n",
       "    }\n",
       "\n",
       "    .dataframe thead tr th {\n",
       "        text-align: left;\n",
       "    }\n",
       "</style>\n",
       "<table border=\"1\" class=\"dataframe\">\n",
       "  <thead>\n",
       "    <tr>\n",
       "      <th></th>\n",
       "      <th>Country/Territory</th>\n",
       "      <th>UN region</th>\n",
       "      <th colspan=\"2\" halign=\"left\">IMF[1][13]</th>\n",
       "      <th colspan=\"2\" halign=\"left\">World Bank[14]</th>\n",
       "      <th colspan=\"2\" halign=\"left\">United Nations[15]</th>\n",
       "    </tr>\n",
       "    <tr>\n",
       "      <th></th>\n",
       "      <th>Country/Territory</th>\n",
       "      <th>UN region</th>\n",
       "      <th>Forecast</th>\n",
       "      <th>Year</th>\n",
       "      <th>Estimate</th>\n",
       "      <th>Year</th>\n",
       "      <th>Estimate</th>\n",
       "      <th>Year</th>\n",
       "    </tr>\n",
       "  </thead>\n",
       "  <tbody>\n",
       "    <tr>\n",
       "      <th>0</th>\n",
       "      <td>World</td>\n",
       "      <td>—</td>\n",
       "      <td>105568776</td>\n",
       "      <td>2023</td>\n",
       "      <td>100562011</td>\n",
       "      <td>2022</td>\n",
       "      <td>96698005</td>\n",
       "      <td>2021</td>\n",
       "    </tr>\n",
       "    <tr>\n",
       "      <th>1</th>\n",
       "      <td>United States</td>\n",
       "      <td>Americas</td>\n",
       "      <td>26854599</td>\n",
       "      <td>2023</td>\n",
       "      <td>25462700</td>\n",
       "      <td>2022</td>\n",
       "      <td>23315081</td>\n",
       "      <td>2021</td>\n",
       "    </tr>\n",
       "    <tr>\n",
       "      <th>2</th>\n",
       "      <td>China</td>\n",
       "      <td>Asia</td>\n",
       "      <td>19373586</td>\n",
       "      <td>[n 1]2023</td>\n",
       "      <td>17963171</td>\n",
       "      <td>[n 3]2022</td>\n",
       "      <td>17734131</td>\n",
       "      <td>[n 1]2021</td>\n",
       "    </tr>\n",
       "    <tr>\n",
       "      <th>3</th>\n",
       "      <td>Japan</td>\n",
       "      <td>Asia</td>\n",
       "      <td>4409738</td>\n",
       "      <td>2023</td>\n",
       "      <td>4231141</td>\n",
       "      <td>2022</td>\n",
       "      <td>4940878</td>\n",
       "      <td>2021</td>\n",
       "    </tr>\n",
       "    <tr>\n",
       "      <th>4</th>\n",
       "      <td>Germany</td>\n",
       "      <td>Europe</td>\n",
       "      <td>4308854</td>\n",
       "      <td>2023</td>\n",
       "      <td>4072192</td>\n",
       "      <td>2022</td>\n",
       "      <td>4259935</td>\n",
       "      <td>2021</td>\n",
       "    </tr>\n",
       "    <tr>\n",
       "      <th>...</th>\n",
       "      <td>...</td>\n",
       "      <td>...</td>\n",
       "      <td>...</td>\n",
       "      <td>...</td>\n",
       "      <td>...</td>\n",
       "      <td>...</td>\n",
       "      <td>...</td>\n",
       "      <td>...</td>\n",
       "    </tr>\n",
       "    <tr>\n",
       "      <th>209</th>\n",
       "      <td>Anguilla</td>\n",
       "      <td>Americas</td>\n",
       "      <td>—</td>\n",
       "      <td>—</td>\n",
       "      <td>—</td>\n",
       "      <td>—</td>\n",
       "      <td>303</td>\n",
       "      <td>2021</td>\n",
       "    </tr>\n",
       "    <tr>\n",
       "      <th>210</th>\n",
       "      <td>Kiribati</td>\n",
       "      <td>Oceania</td>\n",
       "      <td>248</td>\n",
       "      <td>2023</td>\n",
       "      <td>223</td>\n",
       "      <td>2022</td>\n",
       "      <td>227</td>\n",
       "      <td>2021</td>\n",
       "    </tr>\n",
       "    <tr>\n",
       "      <th>211</th>\n",
       "      <td>Nauru</td>\n",
       "      <td>Oceania</td>\n",
       "      <td>151</td>\n",
       "      <td>2023</td>\n",
       "      <td>151</td>\n",
       "      <td>2022</td>\n",
       "      <td>155</td>\n",
       "      <td>2021</td>\n",
       "    </tr>\n",
       "    <tr>\n",
       "      <th>212</th>\n",
       "      <td>Montserrat</td>\n",
       "      <td>Americas</td>\n",
       "      <td>—</td>\n",
       "      <td>—</td>\n",
       "      <td>—</td>\n",
       "      <td>—</td>\n",
       "      <td>72</td>\n",
       "      <td>2021</td>\n",
       "    </tr>\n",
       "    <tr>\n",
       "      <th>213</th>\n",
       "      <td>Tuvalu</td>\n",
       "      <td>Oceania</td>\n",
       "      <td>65</td>\n",
       "      <td>2023</td>\n",
       "      <td>60</td>\n",
       "      <td>2022</td>\n",
       "      <td>60</td>\n",
       "      <td>2021</td>\n",
       "    </tr>\n",
       "  </tbody>\n",
       "</table>\n",
       "<p>214 rows × 8 columns</p>\n",
       "</div>"
      ],
      "text/plain": [
       "    Country/Territory UN region IMF[1][13]            World Bank[14]  \\\n",
       "    Country/Territory UN region   Forecast       Year       Estimate   \n",
       "0               World         —  105568776       2023      100562011   \n",
       "1       United States  Americas   26854599       2023       25462700   \n",
       "2               China      Asia   19373586  [n 1]2023       17963171   \n",
       "3               Japan      Asia    4409738       2023        4231141   \n",
       "4             Germany    Europe    4308854       2023        4072192   \n",
       "..                ...       ...        ...        ...            ...   \n",
       "209          Anguilla  Americas          —          —              —   \n",
       "210          Kiribati   Oceania        248       2023            223   \n",
       "211             Nauru   Oceania        151       2023            151   \n",
       "212        Montserrat  Americas          —          —              —   \n",
       "213            Tuvalu   Oceania         65       2023             60   \n",
       "\n",
       "               United Nations[15]             \n",
       "          Year           Estimate       Year  \n",
       "0         2022           96698005       2021  \n",
       "1         2022           23315081       2021  \n",
       "2    [n 3]2022           17734131  [n 1]2021  \n",
       "3         2022            4940878       2021  \n",
       "4         2022            4259935       2021  \n",
       "..         ...                ...        ...  \n",
       "209          —                303       2021  \n",
       "210       2022                227       2021  \n",
       "211       2022                155       2021  \n",
       "212          —                 72       2021  \n",
       "213       2022                 60       2021  \n",
       "\n",
       "[214 rows x 8 columns]"
      ]
     },
     "metadata": {},
     "output_type": "display_data"
    }
   ],
   "source": [
    "display(df)"
   ]
  }
 ],
 "metadata": {
  "kernelspec": {
   "display_name": "Python 3 (ipykernel)",
   "language": "python",
   "name": "python3"
  },
  "language_info": {
   "codemirror_mode": {
    "name": "ipython",
    "version": 3
   },
   "file_extension": ".py",
   "mimetype": "text/x-python",
   "name": "python",
   "nbconvert_exporter": "python",
   "pygments_lexer": "ipython3",
   "version": "3.10.9"
  }
 },
 "nbformat": 4,
 "nbformat_minor": 5
}
